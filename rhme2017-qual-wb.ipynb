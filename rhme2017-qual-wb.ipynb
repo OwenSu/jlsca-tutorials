{
 "cells": [
  {
   "cell_type": "markdown",
   "metadata": {},
   "source": [
    "# RHme3 White Box Unboxing qualifier\n",
    "\n",
    "This example shows how to recover the key from the [whitebox qualifier challenge of Rhme 2017](https://github.com/Riscure/Rhme-2017/tree/master/prequalifications/White%20Box%20Unboxing). The challenge can be completely solved using the SideChannelMarvels framework as described in [this Deadpool writeup](https://github.com/SideChannelMarvels/Deadpool/tree/master/wbs_aes_rhme3_prequal). Here we do it somewhat differently.\n",
    "\n",
    "We will use the wrapper from Deadpool to trace the whitebox binary with Intel Pin. For recovery, we will use Jlsca to illustrate trace pre-processing techniques that it offers. For this toy binary, the effect of these techniques is not so pronounced, however it is significant for more serious challenges.\n",
    "\n",
    "Before computing the correlation, we perform pre-processing on the traces to automatically remove samples that are irrelevant for the analysis. Such point-of-interest selection  drastically reduces the length of traces without the visual inspection of the trace graph and manual filter configuration. As you can see from the log lines staring with `Reduction`, what remains are about 20 bits per key byte. This is what goes into correlation computation. As a result, the *total* time of the attack (and the amount of human input) is reduced.\n",
    "\n",
    "The detailed description of these pre-procesing techniques is available in https://eprint.iacr.org/2018/095\n",
    "\n",
    "The correlation part of the attack is the same as in [Daredevil](https://github.com/SideChannelMarvels/Deadpool). The output of the pre-processing could be fed out to Daredevil. However, the point selection is different per key byte, so we would need to script 16 separate Daredevil runs with different tracesets. You can do it as an exercise though.\n",
    "\n",
    "In case you do not feel like tracing the binary yourself, tracesets for analysis are available alongside this notebook in [rhme2017-qual-wb-traces.tar.bz2](rhme2017-qual-wb-traces.tar.bz2)."
   ]
  },
  {
   "cell_type": "markdown",
   "metadata": {},
   "source": [
    "## 0. Tracing the binary\n",
    "\n",
    "We do it in a standard Deadpool way based on the examples therein. The acquisition script is leaving default filters on acquired ranges.\n",
    "\n",
    "```python\n",
    "#!/usr/bin/env python\n",
    "import sys\n",
    "sys.path.insert(0, '../../')\n",
    "from deadpool_dca import *\n",
    "def processinput(iblock, blocksize):\n",
    "    return (None, ['--stdin < <(echo %0*x|xxd -r -p)' % (2*blocksize, iblock)])\n",
    "def processoutput(output, blocksize):\n",
    "    return int(''.join([x for x in output.split(' ')]), 16)\n",
    "T=TracerPIN('./whitebox', processinput, processoutput, ARCH.amd64, blocksize=16, shell=True)\n",
    "T.run(100)\n",
    "bin2trs(None, None, False) # get the bit-unpacked trs, keeping the originals\n",
    "bin2daredevil()            # get the daredevil \"split binary\", erasing the originals\n",
    "```\n",
    "We execute this script in the environment provided by the [Orka docker image](https://github.com/SideChannelMarvels/Orka) refreshed to the latest state. From several output files, for further steps we need `mem_addr1_rw1_100_42808.trace` and `mem_addr1_rw1_100_42808.input`. Other memory ranges can be analysed in the same manner."
   ]
  },
  {
   "cell_type": "markdown",
   "metadata": {},
   "source": [
    "## 1. Converting the files\n",
    "\n",
    "Though Jlsca accepts the \"split binary\" format directly, we will convert the traces to bit-packed representation and save it as trs. For the short traces of this example it hardly matters, so just as an illustration.\n",
    "\n",
    "Due to the current limitations of the converter we add only the input. This is enough for the attack but we will not be able to verify the key. For this challenge, the key will be distinguishable by its entropy, but in general the converter deserves improvement. :)\n",
    "\n",
    "Deadpool's `bin2trs` converter from `deadpool_dca.py` can also be used (see the tracing script above), it just does not pack the bits. As an excercise, you can run the attack below on the `mem_addr1_rw1_100_42808.trs` and see what happens."
   ]
  },
  {
   "cell_type": "code",
   "execution_count": 1,
   "metadata": {},
   "outputs": [
    {
     "name": "stdout",
     "output_type": "stream",
     "text": [
      "Creating Inspector trs file output_UInt8_100t.trs\n",
      "#samples: 5351\n",
      "#data:    16\n",
      "type:     UInt8\n",
      "Wrote 100 traces in output_UInt8_100t.trs\n"
     ]
    }
   ],
   "source": [
    "using Jlsca.Trs\n",
    "\n",
    "# the true parameter in the end tells the converter to pack the bits \n",
    "splitbin2trs(\"rhme2017-qual-wb-traces/mem_addr1_rw1_100_42808.input\", 16, \"rhme2017-qual-wb-traces/mem_addr1_rw1_100_42808.trace\", 42808, UInt8, 100, true)\n",
    "run(`mv output_UInt8_100t.trs rhme2017-qual-wb-traces/mem_addr1_rw1_100_42808_bitpacked.trs`)"
   ]
  },
  {
   "cell_type": "markdown",
   "metadata": {},
   "source": [
    "## 2. Recovering the key\n",
    "\n",
    "Here we will run the analysis with the pre-processing implemented in Jlsca."
   ]
  },
  {
   "cell_type": "code",
   "execution_count": 2,
   "metadata": {
    "scrolled": false
   },
   "outputs": [
    {
     "name": "stdout",
     "output_type": "stream",
     "text": [
      "Warning: bithack enabled: ignoring trailing 7 samples that are not 8 byte aligned !!!1\n",
      "Opened rhme2017-qual-wb-traces/mem_addr1_rw1_100_42808_bitpacked.trs, #traces 100, #samples 5351 (UInt8), #data 16\n",
      "\n",
      "Jlsca running in Julia version: 0.6.1, 1 processes/1 workers/2 threads per worker\n",
      "\n",
      "DPA parameters\n",
      "attack:       AES Sbox\n",
      "mode:         CIPHER\n",
      "key length:   KL128\n",
      "direction:    FORWARD\n",
      "analysis:     CPA\n",
      "leakages:     bit0,bit1,bit2,bit3,bit4,bit5,bit6,bit7\n",
      "maximization: abs global max\n",
      "combination:  +\n",
      "data at:      1\n",
      "\n",
      "phase: 1 / 1, #targets 16\n",
      "\n",
      "Running processor \"Cond reduce\" on trace range 1:1:100, 1 data passes, 1 sample passes\n"
     ]
    },
    {
     "name": "stderr",
     "output_type": "stream",
     "text": [
      "\r",
      "\u001b[32mProcessing traces 1:100..   3%|█                        |  ETA: 0:00:33\u001b[39m\r",
      "\u001b[32mProcessing traces 1:100.. 100%|█████████████████████████| Time: 0:00:01\u001b[39m\n"
     ]
    },
    {
     "name": "stdout",
     "output_type": "stream",
     "text": [
      "Reduction for 1: 5962 left after global dup col removal, 5097 left after removing the inv dup cols, 20 left after sample reduction\n",
      "Reduction for 2: 5962 left after global dup col removal, 5097 left after removing the inv dup cols, 19 left after sample reduction\n",
      "Reduction for 3: 5962 left after global dup col removal, 5097 left after removing the inv dup cols, 20 left after sample reduction\n",
      "Reduction for 4: 5962 left after global dup col removal, 5097 left after removing the inv dup cols, 19 left after sample reduction\n",
      "Reduction for 5: 5962 left after global dup col removal, 5097 left after removing the inv dup cols, 20 left after sample reduction\n",
      "Reduction for 6: 5962 left after global dup col removal, 5097 left after removing the inv dup cols, 19 left after sample reduction\n",
      "Reduction for 7: 5962 left after global dup col removal, 5097 left after removing the inv dup cols, 20 left after sample reduction\n",
      "Reduction for 8: 5962 left after global dup col removal, 5097 left after removing the inv dup cols, 19 left after sample reduction\n",
      "Reduction for 9: 5962 left after global dup col removal, 5097 left after removing the inv dup cols, 20 left after sample reduction\n",
      "Reduction for 10: 5962 left after global dup col removal, 5097 left after removing the inv dup cols, 19 left after sample reduction\n",
      "Reduction for 11: 5962 left after global dup col removal, 5097 left after removing the inv dup cols, 21 left after sample reduction\n",
      "Reduction for 12: 5962 left after global dup col removal, 5097 left after removing the inv dup cols, 19 left after sample reduction\n",
      "Reduction for 13: 5962 left after global dup col removal, 5097 left after removing the inv dup cols, 20 left after sample reduction\n",
      "Reduction for 14: 5962 left after global dup col removal, 5097 left after removing the inv dup cols, 19 left after sample reduction\n",
      "Reduction for 15: 5962 left after global dup col removal, 5097 left after removing the inv dup cols, 20 left after sample reduction\n",
      "Reduction for 16: 5962 left after global dup col removal, 5097 left after removing the inv dup cols, 19 left after sample reduction\n",
      "\n",
      "Reduced 100 input traces, UInt8 data type\n",
      "CPA on samples shape (74, 20) (range 1:42752) and data shape (74,)\n",
      "Results @ 74 rows, 42752 cols (100 rows, 42752 cols, consumed)\n",
      "target: 1, phase: 1, \"Sbox out\"\n",
      "rank:   1, candidate: 0x61, + of peaks: 7.209363\n",
      "rank:   2, candidate: 0x49, + of peaks: 2.420336\n",
      "rank:   3, candidate: 0x9e, + of peaks: 2.356039\n",
      "rank:   4, candidate: 0xea, + of peaks: 2.320170\n",
      "rank:   5, candidate: 0x42, + of peaks: 2.303592\n",
      "recovered key material: 61\n",
      "CPA on samples shape (87, 19) (range 1:42752) and data shape (87,)\n",
      "Results @ 87 rows, 42752 cols (100 rows, 42752 cols, consumed)\n",
      "target: 2, phase: 1, \"Sbox out\"\n",
      "rank:   1, candidate: 0x31, + of peaks: 8.000000\n",
      "rank:   2, candidate: 0x49, + of peaks: 2.267663\n",
      "rank:   3, candidate: 0x15, + of peaks: 2.198580\n",
      "rank:   4, candidate: 0x81, + of peaks: 2.156447\n",
      "rank:   5, candidate: 0xfc, + of peaks: 2.152295\n",
      "recovered key material: 31\n",
      "CPA on samples shape (81, 20) (range 1:42752) and data shape (81,)\n",
      "Results @ 81 rows, 42752 cols (100 rows, 42752 cols, consumed)\n",
      "target: 3, phase: 1, \"Sbox out\"\n",
      "rank:   1, candidate: 0x6c, + of peaks: 7.131208\n",
      "rank:   2, candidate: 0xf8, + of peaks: 2.311709\n",
      "rank:   3, candidate: 0xf7, + of peaks: 2.293035\n",
      "rank:   4, candidate: 0x04, + of peaks: 2.271515\n",
      "rank:   5, candidate: 0x7f, + of peaks: 2.232452\n",
      "recovered key material: 6c\n",
      "CPA on samples shape (82, 19) (range 1:42752) and data shape (82,)\n",
      "Results @ 82 rows, 42752 cols (100 rows, 42752 cols, consumed)\n",
      "target: 4, phase: 1, \"Sbox out\"\n",
      "rank:   1, candidate: 0x5f, + of peaks: 8.000000\n",
      "rank:   2, candidate: 0xd9, + of peaks: 2.394716\n",
      "rank:   3, candidate: 0xba, + of peaks: 2.159239\n",
      "rank:   4, candidate: 0x1c, + of peaks: 2.128540\n",
      "rank:   5, candidate: 0x02, + of peaks: 2.126880\n",
      "recovered key material: 5f\n",
      "CPA on samples shape (82, 20) (range 1:42752) and data shape (82,)\n",
      "Results @ 82 rows, 42752 cols (100 rows, 42752 cols, consumed)\n",
      "target: 5, phase: 1, \"Sbox out\"\n",
      "rank:   1, candidate: 0x74, + of peaks: 7.166967\n",
      "rank:   2, candidate: 0xbd, + of peaks: 2.380427\n",
      "rank:   3, candidate: 0x4d, + of peaks: 2.287843\n",
      "rank:   4, candidate: 0x1f, + of peaks: 2.270442\n",
      "rank:   5, candidate: 0x44, + of peaks: 2.236426\n",
      "recovered key material: 74\n",
      "CPA on samples shape (84, 19) (range 1:42752) and data shape (84,)\n",
      "Results @ 84 rows, 42752 cols (100 rows, 42752 cols, consumed)\n",
      "target: 6, phase: 1, \"Sbox out\"\n",
      "rank:   1, candidate: 0x34, + of peaks: 8.000000\n",
      "rank:   2, candidate: 0x48, + of peaks: 2.305490\n",
      "rank:   3, candidate: 0x18, + of peaks: 2.288389\n",
      "rank:   4, candidate: 0xd7, + of peaks: 2.244434\n",
      "rank:   5, candidate: 0xa3, + of peaks: 2.213195\n",
      "recovered key material: 34\n",
      "CPA on samples shape (85, 20) (range 1:42752) and data shape (85,)\n",
      "Results @ 85 rows, 42752 cols (100 rows, 42752 cols, consumed)\n",
      "target: 7, phase: 1, \"Sbox out\"\n",
      "rank:   1, candidate: 0x62, + of peaks: 7.291667\n",
      "rank:   2, candidate: 0xb1, + of peaks: 2.206902\n",
      "rank:   3, candidate: 0x85, + of peaks: 2.190008\n",
      "rank:   4, candidate: 0x6e, + of peaks: 2.172845\n",
      "rank:   5, candidate: 0x18, + of peaks: 2.161490\n",
      "recovered key material: 62\n",
      "CPA on samples shape (82, 19) (range 1:42752) and data shape (82,)\n",
      "Results @ 82 rows, 42752 cols (100 rows, 42752 cols, consumed)\n",
      "target: 8, phase: 1, \"Sbox out\"\n",
      "rank:   1, candidate: 0x31, + of peaks: 8.000000\n",
      "rank:   2, candidate: 0x4b, + of peaks: 2.311398\n",
      "rank:   3, candidate: 0x3a, + of peaks: 2.249177\n",
      "rank:   4, candidate: 0xfa, + of peaks: 2.234016\n",
      "rank:   5, candidate: 0x35, + of peaks: 2.232291\n",
      "recovered key material: 31\n",
      "CPA on samples shape (81, 20) (range 1:42752) and data shape (81,)\n",
      "Results @ 81 rows, 42752 cols (100 rows, 42752 cols, consumed)\n",
      "target: 9, phase: 1, \"Sbox out\"\n",
      "rank:   1, candidate: 0x33, + of peaks: 7.205499\n",
      "rank:   2, candidate: 0x54, + of peaks: 2.292755\n",
      "rank:   3, candidate: 0x15, + of peaks: 2.226108\n",
      "rank:   4, candidate: 0x6b, + of peaks: 2.208906\n",
      "rank:   5, candidate: 0x74, + of peaks: 2.200654\n",
      "recovered key material: 33\n",
      "CPA on samples shape (83, 19) (range 1:42752) and data shape (83,)\n",
      "Results @ 83 rows, 42752 cols (100 rows, 42752 cols, consumed)\n",
      "target: 10, phase: 1, \"Sbox out\"\n",
      "rank:   1, candidate: 0x35, + of peaks: 8.000000\n",
      "rank:   2, candidate: 0x4f, + of peaks: 2.230499\n",
      "rank:   3, candidate: 0xa0, + of peaks: 2.197782\n",
      "rank:   4, candidate: 0x74, + of peaks: 2.185080\n",
      "rank:   5, candidate: 0xd1, + of peaks: 2.183511\n",
      "recovered key material: 35\n",
      "CPA on samples shape (86, 21) (range 1:42752) and data shape (86,)\n",
      "Results @ 86 rows, 42752 cols (100 rows, 42752 cols, consumed)\n",
      "target: 11, phase: 1, \"Sbox out\"\n",
      "rank:   1, candidate: 0x5f, + of peaks: 7.138007\n",
      "rank:   2, candidate: 0xc3, + of peaks: 2.310446\n",
      "rank:   3, candidate: 0xdd, + of peaks: 2.203060\n",
      "rank:   4, candidate: 0x26, + of peaks: 2.199146\n",
      "rank:   5, candidate: 0x0a, + of peaks: 2.194269\n",
      "recovered key material: 5f\n",
      "CPA on samples shape (85, 19) (range 1:42752) and data shape (85,)\n",
      "Results @ 85 rows, 42752 cols (100 rows, 42752 cols, consumed)\n",
      "target: 12, phase: 1, \"Sbox out\"\n",
      "rank:   1, candidate: 0x52, + of peaks: 8.000000\n",
      "rank:   2, candidate: 0xa3, + of peaks: 2.249309\n",
      "rank:   3, candidate: 0xbe, + of peaks: 2.234721\n",
      "rank:   4, candidate: 0x6a, + of peaks: 2.215089\n",
      "rank:   5, candidate: 0x7b, + of peaks: 2.171197\n",
      "recovered key material: 52\n",
      "CPA on samples shape (81, 20) (range 1:42752) and data shape (81,)\n",
      "Results @ 81 rows, 42752 cols (100 rows, 42752 cols, consumed)\n",
      "target: 13, phase: 1, \"Sbox out\"\n",
      "rank:   1, candidate: 0x5f, + of peaks: 7.277094\n",
      "rank:   2, candidate: 0x55, + of peaks: 2.217166\n",
      "rank:   3, candidate: 0x8d, + of peaks: 2.214655\n",
      "rank:   4, candidate: 0xd1, + of peaks: 2.203207\n",
      "rank:   5, candidate: 0x52, + of peaks: 2.203173\n",
      "recovered key material: 5f\n",
      "CPA on samples shape (78, 19) (range 1:42752) and data shape (78,)\n",
      "Results @ 78 rows, 42752 cols (100 rows, 42752 cols, consumed)\n",
      "target: 14, phase: 1, \"Sbox out\"\n",
      "rank:   1, candidate: 0x6f, + of peaks: 8.000000\n",
      "rank:   2, candidate: 0x2a, + of peaks: 2.415309\n",
      "rank:   3, candidate: 0x4f, + of peaks: 2.327784\n",
      "rank:   4, candidate: 0x30, + of peaks: 2.281356\n",
      "rank:   5, candidate: 0x3e, + of peaks: 2.260520\n",
      "recovered key material: 6f\n",
      "CPA on samples shape (87, 20) (range 1:42752) and data shape (87,)\n",
      "Results @ 87 rows, 42752 cols (100 rows, 42752 cols, consumed)\n",
      "target: 15, phase: 1, \"Sbox out\"\n",
      "rank:   1, candidate: 0x52, + of peaks: 7.156915\n",
      "rank:   2, candidate: 0x4b, + of peaks: 2.150102\n",
      "rank:   3, candidate: 0xf1, + of peaks: 2.110684\n",
      "rank:   4, candidate: 0x84, + of peaks: 2.105577\n",
      "rank:   5, candidate: 0x3f, + of peaks: 2.101487\n",
      "recovered key material: 52\n",
      "CPA on samples shape (80, 19) (range 1:42752) and data shape (80,)\n",
      "Results @ 80 rows, 42752 cols (100 rows, 42752 cols, consumed)\n",
      "target: 16, phase: 1, \"Sbox out\"\n",
      "rank:   1, candidate: 0x35, + of peaks: 8.000000\n",
      "rank:   2, candidate: 0x01, + of peaks: 2.335403\n",
      "rank:   3, candidate: 0x33, + of peaks: 2.237892\n",
      "rank:   4, candidate: 0x58, + of peaks: 2.230428\n",
      "rank:   5, candidate: 0xdd, + of peaks: 2.199871\n",
      "recovered key material: 35\n"
     ]
    },
    {
     "name": "stdout",
     "output_type": "stream",
     "text": [
      "recovered key: 61316c5f7434623133355f525f6f5235\n"
     ]
    },
    {
     "data": {
      "text/plain": [
       "16-element Array{UInt8,1}:\n",
       " 0x61\n",
       " 0x31\n",
       " 0x6c\n",
       " 0x5f\n",
       " 0x74\n",
       " 0x34\n",
       " 0x62\n",
       " 0x31\n",
       " 0x33\n",
       " 0x35\n",
       " 0x5f\n",
       " 0x52\n",
       " 0x5f\n",
       " 0x6f\n",
       " 0x52\n",
       " 0x35"
      ]
     },
     "execution_count": 2,
     "metadata": {},
     "output_type": "execute_result"
    }
   ],
   "source": [
    "using Jlsca.Sca\n",
    "using Jlsca.Trs\n",
    "using Jlsca.Aes\n",
    "\n",
    "filename = \"rhme2017-qual-wb-traces/mem_addr1_rw1_100_42808_bitpacked.trs\"\n",
    "\n",
    "# attack configuration\n",
    "attack = AesSboxAttack()   # attacking AES S-box\n",
    "attack.keyLength = KL128   # attacking AES-128\n",
    "attack.mode = CIPHER       # encryption (INVCIPHER would have been for decryption)\n",
    "attack.direction = FORWARD # attacking from input\n",
    "analysis = CPA()           # use correlation as a distinguisher\n",
    "analysis.leakages = [Bit(i) for i in 0:7] # absolute-sum DPA with bitwise \"leakages\"\n",
    "params = DpaAttack(attack, analysis) # tie the attack and analysis together\n",
    "params.dataOffset = 1      # data starts from the very first byte (remember Julia is 1-based)\n",
    "\n",
    "# pre-processing setup \n",
    "trs = InspectorTrace(filename, true)   # open traceset with efficient readout of packed bits\n",
    "addSamplePass(trs, tobits)             # add bit-unpacking pass over samples\n",
    "setPostProcessor(trs, CondReduce())    # add automated point selection\n",
    "# TODO: expalin the difference between a sample pass and a post-processor in Jlsca readme\n",
    "\n",
    "# attack using all available traces\n",
    "rankData = sca(trs, params, 1, length(trs))\n",
    "key = getKey(params, rankData)"
   ]
  },
  {
   "cell_type": "markdown",
   "metadata": {},
   "source": [
    "As said before, we did not include the output into the traceset. But apparently this key has entropy low enough to see that it is the right one. :) "
   ]
  },
  {
   "cell_type": "code",
   "execution_count": 3,
   "metadata": {},
   "outputs": [
    {
     "name": "stdout",
     "output_type": "stream",
     "text": [
      "a1l_t4b135_R_oR5"
     ]
    }
   ],
   "source": [
    "print(String(key))"
   ]
  }
 ],
 "metadata": {
  "kernelspec": {
   "display_name": "Julia 0.6.1",
   "language": "julia",
   "name": "julia-0.6"
  },
  "language_info": {
   "file_extension": ".jl",
   "mimetype": "application/julia",
   "name": "julia",
   "version": "0.6.1"
  }
 },
 "nbformat": 4,
 "nbformat_minor": 2
}
