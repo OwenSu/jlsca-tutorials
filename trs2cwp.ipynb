{
 "cells": [
  {
   "cell_type": "markdown",
   "metadata": {},
   "source": [
    "# Convert trs to cwp\n",
    "\n",
    "Convert an Inspector traceset into a minimum ChipWhisperer project structure, following https://wiki.newae.com/File_Formats and some experimenting."
   ]
  },
  {
   "cell_type": "code",
   "execution_count": 1,
   "metadata": {},
   "outputs": [
    {
     "data": {
      "text/plain": [
       "exportCwp (generic function with 1 method)"
      ]
     },
     "execution_count": 1,
     "metadata": {},
     "output_type": "execute_result"
    }
   ],
   "source": [
    "using PyCall\n",
    "@pyimport numpy\n",
    "\n",
    "# Export a minimal readable ChipWhisperer project\n",
    "function exportCwp(name, traces, textin, textout)\n",
    "    \n",
    "    (numTraces, numSamples) = size(traces)\n",
    "    (numInputs,) = size(textin)\n",
    "    (numOutputs,) = size(textout)\n",
    "    \n",
    "    # Minimal correctness check\n",
    "    if numTraces != numInputs || numTraces != numOutputs\n",
    "        error(\"Input data size mismatch\")\n",
    "    end\n",
    "    \n",
    "    # Create directory structure\n",
    "    # Existing project with the same name will be overwritten\n",
    "    #  without a full cleanup, supersorry\n",
    "    if !isdir(name)\n",
    "        mkpath(\"$name/traces\")\n",
    "    else\n",
    "        if !isdir(\"$name/traces\")\n",
    "            mkdir(\"$name/traces\")\n",
    "        end\n",
    "    end\n",
    "\n",
    "    # Write a universal project config file template\n",
    "    cwpConfig = \"\"\"\n",
    "    [Trace Management]\n",
    "    tracefile0=traces/config.cfg\n",
    "    enabled0=True\"\"\"\n",
    "    f = open(\"$name/config.cwp\", \"w\")\n",
    "    println(f, cwpConfig)\n",
    "    close(f)\n",
    "    \n",
    "    # Write the main data files\n",
    "    numpy.save(\"$name/traces/traces.npy\", traces)\n",
    "    numpy.save(\"$name/traces/textin.npy\", textin)\n",
    "    numpy.save(\"$name/traces/textout.npy\", textout)\n",
    "\n",
    "    # Write traceset config file\n",
    "    f = open(\"$name/traces/config.cfg\", \"w\")\n",
    "    println(f, \"[Trace Config]\")\n",
    "    println(f, \"numTraces = $numTraces\")\n",
    "    println(f, \"format = native\")\n",
    "    println(f, \"numPoints = $numSamples\")\n",
    "    println(f, \"prefix = \")\n",
    "    close(f)\n",
    "\n",
    "end"
   ]
  },
  {
   "cell_type": "code",
   "execution_count": 2,
   "metadata": {},
   "outputs": [
    {
     "name": "stdout",
     "output_type": "stream",
     "text": [
      "Opened rhme2-pieceofscake-firstroundsboxes.trs, #traces 135, #samples 10000 (Float32), #data 32\n"
     ]
    }
   ],
   "source": [
    "trsName = \"rhme2-pieceofscake-firstroundsboxes.trs\"\n",
    "\n",
    "using Jlsca.Trs\n",
    "\n",
    "# read traceset and get it parameters\n",
    "# we assume that number of data bytes is 32, of which first 16 are input and last 16 are output\n",
    "trs = InspectorTrace(trsName)\n",
    "(_,samples) = trs[1]\n",
    "numSamples = length(samples)\n",
    "numTraces = length(trs)\n",
    "sampleType = eltype(samples)\n",
    "\n",
    "# preallocate arrays\n",
    "traces = Array{sampleType}(undef, numTraces,numSamples)\n",
    "textin = Array{UInt8}(undef, numTraces,16)\n",
    "textout = Array{UInt8}(undef, numTraces,16)\n",
    "\n",
    "# populate arrays from trs\n",
    "for i in 1:numTraces\n",
    "    (data,samples) = trs[i]\n",
    "    traces[i,:] = samples\n",
    "    textin[i,:] = data[1:16]\n",
    "    textout[i,:] = data[17:32]\n",
    "end\n",
    "close(trs)\n",
    "\n",
    "# export to CWP\n",
    "(projectName, ) = splitext(trsName)\n",
    "exportCwp(\"$(projectName)-cwp\", traces, textin, textout)"
   ]
  }
 ],
 "metadata": {
  "kernelspec": {
   "display_name": "Julia 1.0.0",
   "language": "julia",
   "name": "julia-1.0"
  },
  "language_info": {
   "file_extension": ".jl",
   "mimetype": "application/julia",
   "name": "julia",
   "version": "1.0.0"
  }
 },
 "nbformat": 4,
 "nbformat_minor": 2
}
