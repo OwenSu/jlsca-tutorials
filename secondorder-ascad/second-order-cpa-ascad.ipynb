{
 "cells": [
  {
   "cell_type": "markdown",
   "metadata": {},
   "source": [
    "# Second-order CPA on ASCAD traceset\n",
    "\n",
    "This example shows how easy and fast it is to perform a second-order CPA at the example of a traceset from the [ASCAD database](https://github.com/ANSSI-FR/ASCAD).\n",
    "\n",
    "The original HDF5 traceset of ASCAD (available from http://data.ascad-databases.ovh/ASCAD_data.zip, see [ASCAD database](https://github.com/ANSSI-FR/ASCAD) for details) can be converted into the trs format using the accompanying Python script `ascad2trs.py`.\n",
    "\n",
    "This example needs less than a minute to run. Compare this to the 2 hours reported in https://eprint.iacr.org/2018/196 for a Python implementation of second order analysis.\n",
    "\n",
    "The accompanying non-notebook Julia script contains the multi-worker version of this code that can benefit from multiple cores on the same machine and in a cluster, as described in [the HPC example](https://github.com/ikizhvatov/jlsca-tutorials/blob/master/HPC.md).\n",
    "\n",
    "The example also illustrates that the conditional leakage averaging approach can speed up the key recovery time while using more traces (set `condavg` parameter below to true).\n",
    "\n",
    "For reference, the full correct key for the ASCAD source traceset is `0x4dfbe0f27221fe10a78d4adc8e490469`. The traceset contains a range of samples for the recovery of only the 3rd key byte, which is `0xe0`.\n",
    "\n",
    "TODO: compare to Daredevil, add a test case to https://github.com/ikizhvatov/dpa-tools-benchmarking"
   ]
  },
  {
   "cell_type": "code",
   "execution_count": 1,
   "metadata": {},
   "outputs": [],
   "source": [
    "using Jlsca.Trs\n",
    "using Jlsca.Sca"
   ]
  },
  {
   "cell_type": "markdown",
   "metadata": {},
   "source": [
    "Configure the attack"
   ]
  },
  {
   "cell_type": "code",
   "execution_count": 2,
   "metadata": {},
   "outputs": [],
   "source": [
    "fname = \"ASCAD.trs\" # traceset file\n",
    "nrTraces = 1000  # number of traces to attack\n",
    "keyByteNum = 3   # key byte to attack; ASCAD examples and truncated traceset are for the 3rd key byte\n",
    "condavg = false; # use conditional leakage averaging"
   ]
  },
  {
   "cell_type": "code",
   "execution_count": 3,
   "metadata": {},
   "outputs": [
    {
     "name": "stdout",
     "output_type": "stream",
     "text": [
      "Opened ASCAD.trs, #traces 60000, #samples 700 (UInt8), #data 32\n"
     ]
    },
    {
     "data": {
      "text/plain": [
       "InspectorTrace(0, 60000, 32, 1, UInt8, 700, 24, IOStream(<file ASCAD.trs>), \"ASCAD.trs\", 24, false, 18, false, MetaData(0, Pass[], Pass[], missing, missing, missing, true, #undef, #undef, #undef))"
      ]
     },
     "execution_count": 3,
     "metadata": {},
     "output_type": "execute_result"
    }
   ],
   "source": [
    "trs = InspectorTrace(fname)"
   ]
  },
  {
   "cell_type": "code",
   "execution_count": 4,
   "metadata": {},
   "outputs": [
    {
     "data": {
      "text/plain": [
       "Incremental correlation"
      ]
     },
     "execution_count": 4,
     "metadata": {},
     "output_type": "execute_result"
    }
   ],
   "source": [
    "# attack parameters\n",
    "attack = AesSboxAttack()\n",
    "attack.xor = false\n",
    "if condavg\n",
    "    anal = CPA()\n",
    "else\n",
    "    anal = IncrementalCPA()\n",
    "end\n",
    "anal.leakages = [HW()]\n",
    "\n",
    "params = DpaAttack(attack,anal)\n",
    "maxCols = 150000 # Maximum number of samples processed in one tile. With more RAM this can be increased. Does not affect performance that much though for large values.\n",
    "params.maxCols = maxCols\n",
    "params.maxColsPost = maxCols\n",
    "params.targetOffsets = [keyByteNum]\n",
    "\n",
    "# add a pass doing second order combinations\n",
    "reset(trs)\n",
    "addSamplePass(trs, SecondOrderPass(AbsDiff()))\n",
    "\n",
    "if condavg\n",
    "    # do CPA with conditional averaging\n",
    "    setPostProcessor(trs, CondAvg(SplitByTracesBlock()))\n",
    "else \n",
    "    # do incremental CPA (like Daredevil or Inspector)\n",
    "    setPostProcessor(trs, IncrementalCorrelation(SplitByTracesBlock()))\n",
    "end"
   ]
  },
  {
   "cell_type": "markdown",
   "metadata": {},
   "source": [
    "Run the attack"
   ]
  },
  {
   "cell_type": "code",
   "execution_count": 5,
   "metadata": {},
   "outputs": [
    {
     "name": "stdout",
     "output_type": "stream",
     "text": [
      "\n",
      "Jlsca running in Julia version: 1.0.0, 1 processes/1 workers/4 threads per worker\n",
      "\n",
      "DPA parameters\n",
      "attack:       AES Sbox\n",
      "mode:         CIPHER\n",
      "key length:   KL128\n",
      "direction:    FORWARD\n",
      "xor:          false\n",
      "analysis:     Incremental CPA\n",
      "leakages:     HW\n",
      "maximization: abs global max\n",
      "data at:      1\n",
      "targets:      [3]\n",
      "max cols into post processor: 150000\n",
      "max cols into non-inc analysis: 150000\n",
      "\n",
      "phase: 1 / 1, #targets 16\n",
      "\n",
      "Attacking columns 1:150000 out of 244650 columns (run 1 out of 2)\n",
      "Running processor \"Incremental correlation\" on trace range 1:1:1000, 2 data passes, 1 sample passes\n"
     ]
    },
    {
     "name": "stderr",
     "output_type": "stream",
     "text": [
      "\u001b[32mProcessing traces 1:1000.. 100%|████████████████████████| Time: 0:00:05\u001b[39m\n"
     ]
    },
    {
     "name": "stdout",
     "output_type": "stream",
     "text": [
      "Incremental CPA on range 1:150000 produced (150000, 256) correlation matrix\n",
      "Results @ 1000 rows, 150000 cols (1000 rows consumed)\n",
      "target: 3, phase: 1, #candidates 256, \"Sbox out\"\n",
      "rank:   1, candidate: 0xe0, peak: 0.167837 @ 98403\n",
      "rank:   2, candidate: 0x12, peak: 0.156420 @ 148771\n",
      "rank:   3, candidate: 0x40, peak: 0.155250 @ 122373\n",
      "rank:   4, candidate: 0xc8, peak: 0.153548 @ 37274\n",
      "rank:   5, candidate: 0x13, peak: 0.152902 @ 51456\n",
      "recovered key material: e0\n",
      "Attacking columns 150001:244650 out of 244650 columns (run 2 out of 2)\n",
      "Running processor \"Incremental correlation\" on trace range 1:1:1000, 2 data passes, 1 sample passes\n"
     ]
    },
    {
     "name": "stderr",
     "output_type": "stream",
     "text": [
      "\u001b[32mProcessing traces 1:1000.. 100%|████████████████████████| Time: 0:00:02\u001b[39m\n"
     ]
    },
    {
     "name": "stdout",
     "output_type": "stream",
     "text": [
      "Incremental CPA on range 150001:244650 produced (94650, 256) correlation matrix\n",
      "Results @ 1000 rows, 244650 cols (1000 rows consumed)\n",
      "target: 3, phase: 1, #candidates 256, \"Sbox out\"\n",
      "rank:   1, candidate: 0xe0, peak: 0.167837 @ 98403\n",
      "rank:   2, candidate: 0xd6, peak: 0.159440 @ 244643\n",
      "rank:   3, candidate: 0x18, peak: 0.157115 @ 224615\n",
      "rank:   4, candidate: 0x12, peak: 0.156420 @ 148771\n",
      "rank:   5, candidate: 0x13, peak: 0.155527 @ 158251\n",
      "recovered key material: e0\n",
      " 16.600529 seconds (32.68 M allocations: 5.019 GiB, 8.04% gc time)\n"
     ]
    }
   ],
   "source": [
    "@time sca(trs, params, 1, nrTraces);"
   ]
  },
  {
   "cell_type": "code",
   "execution_count": 6,
   "metadata": {},
   "outputs": [],
   "source": [
    "# graceful cleanup\n",
    "popSamplePass(trs)\n",
    "popSamplePass(trs)\n",
    "close(trs)"
   ]
  }
 ],
 "metadata": {
  "kernelspec": {
   "display_name": "Julia 1.0.0",
   "language": "julia",
   "name": "julia-1.0"
  },
  "language_info": {
   "file_extension": ".jl",
   "mimetype": "application/julia",
   "name": "julia",
   "version": "1.0.0"
  }
 },
 "nbformat": 4,
 "nbformat_minor": 2
}
