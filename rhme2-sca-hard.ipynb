{
 "cells": [
  {
   "cell_type": "markdown",
   "metadata": {},
   "source": [
    "# Rhme2 hard SCA challenge in Jlsca"
   ]
  },
  {
   "cell_type": "markdown",
   "metadata": {},
   "source": [
    "Requires:\n",
    "\n",
    "* The 305 MB traceset tarball from https://drive.google.com/open?id=0B2slHLSL3nXaOHdhTXpMMHZkNjQ. Uncompress it next to this notebook.\n",
    "* Jlsca, PyCall and PyPlot packages\n",
    "* IJulia package"
   ]
  },
  {
   "cell_type": "code",
   "execution_count": null,
   "metadata": {
    "collapsed": false
   },
   "outputs": [],
   "source": [
    "# load the packages\n",
    "\n",
    "using Jlsca.Sca\n",
    "using Jlsca.Trs\n",
    "using Jlsca.Align\n",
    "using PyCall\n",
    "using PyPlot.plot,PyPlot.figure\n",
    "\n",
    "@pyimport numpy"
   ]
  },
  {
   "cell_type": "markdown",
   "metadata": {},
   "source": [
    "## Convert traces from Chipwhisperer capture to Trs format"
   ]
  },
  {
   "cell_type": "code",
   "execution_count": null,
   "metadata": {
    "collapsed": true
   },
   "outputs": [],
   "source": [
    "# prefix identifying the capture, bulky as it is\n",
    "# (so far have been lazy to automate based on ChipWhisperer config file)\n",
    "prefix = \"hardsca_longer_traces/2017.01.27-17.45.58_\"\n",
    "\n",
    "samples = numpy.load(\"$(prefix)traces.npy\");\n",
    "input = numpy.load(\"$(prefix)textin.npy\");\n",
    "output = numpy.load(\"$(prefix)textout.npy\");\n",
    "\n",
    "numberOfTraces = size(input)[1] # because it happens that CW software saves more traces then inputs o_O\n",
    "numberOfSamples = size(samples)[2]\n",
    "dataSpace = size(input)[2] + size(output)[2]\n",
    "sampleType = Float32;"
   ]
  },
  {
   "cell_type": "code",
   "execution_count": null,
   "metadata": {
    "collapsed": false
   },
   "outputs": [],
   "source": [
    "trs = InspectorTrace(\"hardsca_longer_traces.trs\", dataSpace, sampleType, numberOfSamples)\n",
    "for t in 1:numberOfTraces\n",
    "  trs[t] = (vcat(input[t,:],output[t,:]), map(Float32, samples[t,:]))\n",
    "end\n",
    "close(trs)"
   ]
  },
  {
   "cell_type": "markdown",
   "metadata": {},
   "source": [
    "## Explore traces"
   ]
  },
  {
   "cell_type": "code",
   "execution_count": null,
   "metadata": {
    "collapsed": false
   },
   "outputs": [],
   "source": [
    "trs = InspectorTrace(\"hardsca_longer_traces.trs\")"
   ]
  },
  {
   "cell_type": "code",
   "execution_count": null,
   "metadata": {
    "collapsed": false
   },
   "outputs": [],
   "source": [
    "((data,samples),eof) = readTraces(trs, 1:100)"
   ]
  },
  {
   "cell_type": "markdown",
   "metadata": {},
   "source": [
    "Plot 3 traces"
   ]
  },
  {
   "cell_type": "code",
   "execution_count": null,
   "metadata": {
    "collapsed": false
   },
   "outputs": [],
   "source": [
    "for i in 1:3; figure(); plot(samples[i,:]); end"
   ]
  },
  {
   "cell_type": "markdown",
   "metadata": {},
   "source": [
    "Zoom in at the end, plot a few, observe the alignment is not very good"
   ]
  },
  {
   "cell_type": "code",
   "execution_count": null,
   "metadata": {
    "collapsed": false
   },
   "outputs": [],
   "source": [
    "zoomstart = 18000\n",
    "zoomend = 22000\n",
    "\n",
    "for i in 1:4; figure(); plot(samples[i,zoomstart:zoomend]); end"
   ]
  },
  {
   "cell_type": "markdown",
   "metadata": {},
   "source": [
    "Try some alignment, and see the result"
   ]
  },
  {
   "cell_type": "code",
   "execution_count": null,
   "metadata": {
    "collapsed": false
   },
   "outputs": [],
   "source": [
    "reset(trs)\n",
    "\n",
    "maxShift = 20000\n",
    "referencestart = zoomstart + 1000\n",
    "referenceend = referencestart + 1500\n",
    "reference = trs[3][2][referencestart:referenceend]\n",
    "corvalMin = 0.0\n",
    "alignstate = CorrelationAlignFFT(reference, referencestart, maxShift)\n",
    "addSamplePass(trs, x -> ((shift,corval) = correlationAlign(x, alignstate); corval > corvalMin ? circshift(x, shift) : Vector{eltype(x)}(0)))\n",
    "\n",
    "((data,samples),eof) = readTraces(trs, 1:4)\n",
    "\n",
    "popSamplePass(trs)\n",
    "\n",
    "for i in 1:4; figure(); plot(samples[i,18000:22000]); end"
   ]
  },
  {
   "cell_type": "code",
   "execution_count": null,
   "metadata": {
    "collapsed": true
   },
   "outputs": [],
   "source": [
    "close(trs)"
   ]
  },
  {
   "cell_type": "markdown",
   "metadata": {},
   "source": [
    "## CPA attack with alignment"
   ]
  },
  {
   "cell_type": "code",
   "execution_count": null,
   "metadata": {
    "collapsed": false
   },
   "outputs": [],
   "source": [
    "trs = InspectorTrace(\"hardsca_longer_traces.trs\")\n",
    "\n",
    "params = AesSboxAttack()\n",
    "params.dataOffset = 17\n",
    "params.direction = BACKWARD\n",
    "\n",
    "numberOfAverages = length(params.keyByteOffsets)\n",
    "numberOfCandidates = getNumberOfCandidates(params)\n",
    "\n",
    "numberOfTraces = length(trs)\n"
   ]
  },
  {
   "cell_type": "markdown",
   "metadata": {},
   "source": [
    "Prepare the alignment pass, bump the corvalMin to throw away stuff that is poorly aligned\n",
    "\n",
    "We're also throwing away everything outside our window of interest before it goes into the attack, after alignment"
   ]
  },
  {
   "cell_type": "code",
   "execution_count": null,
   "metadata": {
    "collapsed": false
   },
   "outputs": [],
   "source": [
    "popSamplePass(trs)\n",
    "popSamplePass(trs)\n",
    "\n",
    "zoomstart = 18000\n",
    "zoomend = 22000\n",
    "maxShift = 20000\n",
    "referencestart = zoomstart + 1000\n",
    "referenceend = referencestart + 1500\n",
    "reference = trs[3][2][referencestart:referenceend]\n",
    "corvalMin = 0.4\n",
    "alignstate = CorrelationAlignFFT(reference, referencestart, maxShift)\n",
    "\n",
    "addSamplePass(trs, x -> ((shift,corval) = correlationAlign(x, alignstate); corval > corvalMin ? circshift(x, shift) : Vector{eltype(x)}(0)))\n",
    "addSamplePass(trs, x -> x[zoomstart-1000:zoomend])"
   ]
  },
  {
   "cell_type": "markdown",
   "metadata": {},
   "source": [
    "Run with conditional averaging"
   ]
  },
  {
   "cell_type": "code",
   "execution_count": null,
   "metadata": {
    "collapsed": false
   },
   "outputs": [],
   "source": [
    "reset(trs) # note, this resets the conditional averager, it doesn't pop the sample passes\n",
    "\n",
    "params.analysis = DPA()\n",
    "params.analysis.statistic = cor\n",
    "#params.analysis.leakageFunctions = [x -> ((x .>> i)&1) for i in 0:7]\n",
    "params.analysis.leakageFunctions = [hw]\n",
    "\n",
    "setPostProcessor(trs, CondAvg(SplitByData(numberOfAverages,numberOfCandidates)))  \n",
    "sca(trs, params, 1, numberOfTraces)\n"
   ]
  },
  {
   "cell_type": "code",
   "execution_count": null,
   "metadata": {
    "collapsed": true
   },
   "outputs": [],
   "source": []
  }
 ],
 "metadata": {
  "anaconda-cloud": {},
  "kernelspec": {
   "display_name": "Julia 0.5.2",
   "language": "julia",
   "name": "julia-0.5"
  },
  "language_info": {
   "file_extension": ".jl",
   "mimetype": "application/julia",
   "name": "julia",
   "version": "0.5.2"
  }
 },
 "nbformat": 4,
 "nbformat_minor": 2
}
